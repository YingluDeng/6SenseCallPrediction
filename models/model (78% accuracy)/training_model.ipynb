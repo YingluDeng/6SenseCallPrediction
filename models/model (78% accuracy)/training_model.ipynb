{
 "cells": [
  {
   "cell_type": "markdown",
   "metadata": {},
   "source": [
    "# 6 Sense Model Training"
   ]
  },
  {
   "cell_type": "markdown",
   "metadata": {},
   "source": [
    "<ul>  \n",
    "<li><a href=\"#intro\">Introduction</a></li> \n",
    "<li><a href=\"#data\">Data Preprocessing</a></li> \n",
    "<li><a href=\"#model\">Model Predict</a></li> \n",
    "    <ul>\n",
    "        <li><a href=\"#call\">Predict Call Disposition</a></li>\n",
    "        <li><a href=\"#week\"> Predict Best Day of Week to Call</a></li>    \n",
    "        <li><a href=\"#hour\">Predict Best Hour to Call</a></li>\n",
    "    </ul>\n",
    "<li><a href=\"#conclusion\">Conclusion</a></li> \n",
    "</ul>"
   ]
  },
  {
   "cell_type": "markdown",
   "metadata": {},
   "source": [
    "<a id='intro'></a>\n",
    "## Introduction\n",
    "\n",
    "> This notebook is for training the 6sense data through different models (such as Random Froest, KNN, XGBoost and so) on and find the best fit model to predict several variables including call disposition, best day of week to call and best hour to call so that the company can get engagement with prospective customers.\n",
    "\n",
    "### Data Files:\n",
    "<ul>\n",
    "    <li>calls.csv: a timeline of outgoing sales calls and the disposition of those calls</li>\n",
    "    <li>events.csv: any activities that we have on record taking place before the phone calls were made</li>\n",
    "    <li>companies.csv: the industry and employee count of the companies</li>\n",
    "    <li>people.csv: the people who were called, along with their job level and function and the ID of the company they work for</li>\n",
    "</ul>"
   ]
  },
  {
   "cell_type": "code",
   "execution_count": 1,
   "metadata": {},
   "outputs": [],
   "source": [
    "#import data and library\n",
    "import pandas as pd\n",
    "import numpy as np\n",
    "import matplotlib.pyplot as plt\n",
    "from collections import Counter\n",
    "events = pd.read_csv(\"events.csv\")\n",
    "calls = pd.read_csv(\"calls.csv\")\n",
    "companies1 = pd.read_csv(\"companies.csv\")\n",
    "people = pd.read_csv(\"people.csv\")\n",
    "opportunities = pd.read_csv(\"opportunities.csv\")\n",
    "events = events.rename(columns={\"date\": \"event_date\"})\n",
    "calls = calls.rename(columns={\"timestamp\": \"call_time\"})\n",
    "del calls['date']"
   ]
  },
  {
   "cell_type": "markdown",
   "metadata": {},
   "source": [
    "<a id='data'></a>\n",
    "# Data Preprocessing"
   ]
  },
  {
   "cell_type": "code",
   "execution_count": 2,
   "metadata": {},
   "outputs": [
    {
     "data": {
      "text/html": [
       "<div>\n",
       "<style scoped>\n",
       "    .dataframe tbody tr th:only-of-type {\n",
       "        vertical-align: middle;\n",
       "    }\n",
       "\n",
       "    .dataframe tbody tr th {\n",
       "        vertical-align: top;\n",
       "    }\n",
       "\n",
       "    .dataframe thead th {\n",
       "        text-align: right;\n",
       "    }\n",
       "</style>\n",
       "<table border=\"1\" class=\"dataframe\">\n",
       "  <thead>\n",
       "    <tr style=\"text-align: right;\">\n",
       "      <th></th>\n",
       "      <th>industry</th>\n",
       "      <th>employee_range</th>\n",
       "      <th>job_level</th>\n",
       "      <th>job_function</th>\n",
       "      <th>call_disposition</th>\n",
       "      <th>activity_action</th>\n",
       "      <th>activity_type</th>\n",
       "      <th>event_day</th>\n",
       "      <th>event_month</th>\n",
       "      <th>call_day</th>\n",
       "      <th>call_month</th>\n",
       "      <th>call_hour</th>\n",
       "    </tr>\n",
       "  </thead>\n",
       "  <tbody>\n",
       "    <tr>\n",
       "      <th>0</th>\n",
       "      <td>14</td>\n",
       "      <td>1</td>\n",
       "      <td>1</td>\n",
       "      <td>9</td>\n",
       "      <td>3</td>\n",
       "      <td>4</td>\n",
       "      <td>3</td>\n",
       "      <td>6</td>\n",
       "      <td>10</td>\n",
       "      <td>4</td>\n",
       "      <td>8</td>\n",
       "      <td>17</td>\n",
       "    </tr>\n",
       "    <tr>\n",
       "      <th>1</th>\n",
       "      <td>14</td>\n",
       "      <td>1</td>\n",
       "      <td>1</td>\n",
       "      <td>9</td>\n",
       "      <td>3</td>\n",
       "      <td>5</td>\n",
       "      <td>5</td>\n",
       "      <td>1</td>\n",
       "      <td>10</td>\n",
       "      <td>4</td>\n",
       "      <td>8</td>\n",
       "      <td>17</td>\n",
       "    </tr>\n",
       "    <tr>\n",
       "      <th>2</th>\n",
       "      <td>14</td>\n",
       "      <td>1</td>\n",
       "      <td>1</td>\n",
       "      <td>9</td>\n",
       "      <td>3</td>\n",
       "      <td>4</td>\n",
       "      <td>3</td>\n",
       "      <td>4</td>\n",
       "      <td>11</td>\n",
       "      <td>4</td>\n",
       "      <td>8</td>\n",
       "      <td>17</td>\n",
       "    </tr>\n",
       "    <tr>\n",
       "      <th>3</th>\n",
       "      <td>14</td>\n",
       "      <td>1</td>\n",
       "      <td>1</td>\n",
       "      <td>9</td>\n",
       "      <td>3</td>\n",
       "      <td>4</td>\n",
       "      <td>3</td>\n",
       "      <td>1</td>\n",
       "      <td>10</td>\n",
       "      <td>4</td>\n",
       "      <td>8</td>\n",
       "      <td>17</td>\n",
       "    </tr>\n",
       "    <tr>\n",
       "      <th>4</th>\n",
       "      <td>14</td>\n",
       "      <td>1</td>\n",
       "      <td>1</td>\n",
       "      <td>9</td>\n",
       "      <td>3</td>\n",
       "      <td>4</td>\n",
       "      <td>3</td>\n",
       "      <td>1</td>\n",
       "      <td>10</td>\n",
       "      <td>4</td>\n",
       "      <td>8</td>\n",
       "      <td>17</td>\n",
       "    </tr>\n",
       "    <tr>\n",
       "      <th>...</th>\n",
       "      <td>...</td>\n",
       "      <td>...</td>\n",
       "      <td>...</td>\n",
       "      <td>...</td>\n",
       "      <td>...</td>\n",
       "      <td>...</td>\n",
       "      <td>...</td>\n",
       "      <td>...</td>\n",
       "      <td>...</td>\n",
       "      <td>...</td>\n",
       "      <td>...</td>\n",
       "      <td>...</td>\n",
       "    </tr>\n",
       "    <tr>\n",
       "      <th>4663</th>\n",
       "      <td>9</td>\n",
       "      <td>2</td>\n",
       "      <td>6</td>\n",
       "      <td>9</td>\n",
       "      <td>2</td>\n",
       "      <td>2</td>\n",
       "      <td>4</td>\n",
       "      <td>6</td>\n",
       "      <td>6</td>\n",
       "      <td>6</td>\n",
       "      <td>3</td>\n",
       "      <td>21</td>\n",
       "    </tr>\n",
       "    <tr>\n",
       "      <th>4664</th>\n",
       "      <td>9</td>\n",
       "      <td>2</td>\n",
       "      <td>6</td>\n",
       "      <td>9</td>\n",
       "      <td>2</td>\n",
       "      <td>4</td>\n",
       "      <td>3</td>\n",
       "      <td>1</td>\n",
       "      <td>0</td>\n",
       "      <td>6</td>\n",
       "      <td>3</td>\n",
       "      <td>21</td>\n",
       "    </tr>\n",
       "    <tr>\n",
       "      <th>4665</th>\n",
       "      <td>9</td>\n",
       "      <td>2</td>\n",
       "      <td>6</td>\n",
       "      <td>9</td>\n",
       "      <td>2</td>\n",
       "      <td>4</td>\n",
       "      <td>3</td>\n",
       "      <td>0</td>\n",
       "      <td>0</td>\n",
       "      <td>6</td>\n",
       "      <td>3</td>\n",
       "      <td>21</td>\n",
       "    </tr>\n",
       "    <tr>\n",
       "      <th>4666</th>\n",
       "      <td>9</td>\n",
       "      <td>2</td>\n",
       "      <td>6</td>\n",
       "      <td>9</td>\n",
       "      <td>2</td>\n",
       "      <td>5</td>\n",
       "      <td>5</td>\n",
       "      <td>6</td>\n",
       "      <td>6</td>\n",
       "      <td>6</td>\n",
       "      <td>3</td>\n",
       "      <td>21</td>\n",
       "    </tr>\n",
       "    <tr>\n",
       "      <th>4667</th>\n",
       "      <td>9</td>\n",
       "      <td>2</td>\n",
       "      <td>6</td>\n",
       "      <td>9</td>\n",
       "      <td>2</td>\n",
       "      <td>5</td>\n",
       "      <td>5</td>\n",
       "      <td>6</td>\n",
       "      <td>6</td>\n",
       "      <td>6</td>\n",
       "      <td>3</td>\n",
       "      <td>21</td>\n",
       "    </tr>\n",
       "  </tbody>\n",
       "</table>\n",
       "<p>4668 rows × 12 columns</p>\n",
       "</div>"
      ],
      "text/plain": [
       "      industry  employee_range  job_level  job_function  call_disposition  \\\n",
       "0           14               1          1             9                 3   \n",
       "1           14               1          1             9                 3   \n",
       "2           14               1          1             9                 3   \n",
       "3           14               1          1             9                 3   \n",
       "4           14               1          1             9                 3   \n",
       "...        ...             ...        ...           ...               ...   \n",
       "4663         9               2          6             9                 2   \n",
       "4664         9               2          6             9                 2   \n",
       "4665         9               2          6             9                 2   \n",
       "4666         9               2          6             9                 2   \n",
       "4667         9               2          6             9                 2   \n",
       "\n",
       "      activity_action  activity_type  event_day  event_month  call_day  \\\n",
       "0                   4              3          6           10         4   \n",
       "1                   5              5          1           10         4   \n",
       "2                   4              3          4           11         4   \n",
       "3                   4              3          1           10         4   \n",
       "4                   4              3          1           10         4   \n",
       "...               ...            ...        ...          ...       ...   \n",
       "4663                2              4          6            6         6   \n",
       "4664                4              3          1            0         6   \n",
       "4665                4              3          0            0         6   \n",
       "4666                5              5          6            6         6   \n",
       "4667                5              5          6            6         6   \n",
       "\n",
       "      call_month  call_hour  \n",
       "0              8         17  \n",
       "1              8         17  \n",
       "2              8         17  \n",
       "3              8         17  \n",
       "4              8         17  \n",
       "...          ...        ...  \n",
       "4663           3         21  \n",
       "4664           3         21  \n",
       "4665           3         21  \n",
       "4666           3         21  \n",
       "4667           3         21  \n",
       "\n",
       "[4668 rows x 12 columns]"
      ]
     },
     "execution_count": 2,
     "metadata": {},
     "output_type": "execute_result"
    }
   ],
   "source": [
    "companies_people = pd.merge(companies1, people, on='company_id')\n",
    "companies_people_calls = pd.merge(companies_people, calls, on='contact_id')\n",
    "companies_people_calls_opp = pd.merge(companies_people_calls, opportunities, on='company_id', how='outer')\n",
    "opportunity_created = companies_people_calls_opp['created_date'].notnull()\n",
    "opportunity_label = opportunity_created.astype(int)\n",
    "merged = pd.merge(companies_people_calls_opp, events, on='contact_id')\n",
    "del merged['company_id']\n",
    "del merged['activity_name']\n",
    "del merged['contact_id']\n",
    "del merged['created_date']\n",
    "merged['event_date'] =  pd.to_datetime(merged['event_date'])\n",
    "merged['event_day'] = pd.Series([e.strftime('%a') for e in merged['event_date']]).astype('category').cat.codes\n",
    "merged['event_month'] = merged['event_date'].dt.strftime('%b').astype('category').cat.codes\n",
    "del merged['event_date']\n",
    "merged['call_time'] =  pd.to_datetime(merged['call_time'])\n",
    "merged['call_day'] = pd.Series([e.strftime('%a') for e in merged['call_time']]).astype('category').cat.codes\n",
    "merged['call_month'] = merged['call_time'].dt.strftime('%b').astype('category').cat.codes\n",
    "merged['call_hour'] = merged['call_time'].dt.hour\n",
    "del merged['call_time']\n",
    "merged['industry'] = merged['industry'].replace(np.nan, 'UNKNOWN', regex=True).astype('category').cat.codes\n",
    "merged['employee_range'] = merged['employee_range'].replace(np.nan, '1,000 - 4,999', regex=True).astype('category').cat.codes\n",
    "merged['job_level'] = merged['job_level'].astype('category').cat.codes\n",
    "merged['job_function'] = merged['job_function'].astype('category').cat.codes\n",
    "merged['activity_type'] = merged['activity_type'].astype('category').cat.codes\n",
    "merged['activity_action'] = merged['activity_action'].astype('category').cat.codes\n",
    "merged['call_disposition'] = merged['call_disposition'].astype('category').cat.codes\n",
    "\n",
    "merged"
   ]
  },
  {
   "cell_type": "markdown",
   "metadata": {},
   "source": [
    "<a id='model'></a>\n",
    "# Training Model"
   ]
  },
  {
   "cell_type": "code",
   "execution_count": 3,
   "metadata": {},
   "outputs": [],
   "source": [
    "#import the library\n",
    "from sklearn.linear_model import LogisticRegression\n",
    "from sklearn.svm import SVC, LinearSVC\n",
    "# from sklearn.ensemble import RandomForestClassifier\n",
    "from sklearn.neighbors import KNeighborsClassifier\n",
    "from sklearn.naive_bayes import GaussianNB\n",
    "from sklearn.linear_model import Perceptron\n",
    "from sklearn.linear_model import SGDClassifier\n",
    "from sklearn.tree import DecisionTreeClassifier\n",
    "\n",
    "import xgboost as xgb"
   ]
  },
  {
   "cell_type": "markdown",
   "metadata": {},
   "source": [
    "<a id='call'></a>\n",
    "# Predict Call Disposition\n",
    "\n",
    "### 1. Random Forest"
   ]
  },
  {
   "cell_type": "code",
   "execution_count": 4,
   "metadata": {},
   "outputs": [
    {
     "name": "stdout",
     "output_type": "stream",
     "text": [
      "Training Accuracy: 0.858248921291096\n",
      "Testing Accuracy: 0.6505634340431581\n"
     ]
    }
   ],
   "source": [
    "from sklearn.model_selection import train_test_split\n",
    "from sklearn.ensemble import RandomForestRegressor\n",
    "target=merged['call_disposition']\n",
    "features=merged.drop(['call_disposition'],axis=1)\n",
    "x_train,x_test,y_train,y_test=train_test_split(features,target,test_size=0.2,random_state=42)\n",
    "\n",
    "model = RandomForestRegressor()\n",
    "model.fit(x_train, y_train)\n",
    "prediction = model.predict(x_test)\n",
    "training_accuracy = model.score(x_train, y_train)\n",
    "print ('Training Accuracy:',training_accuracy)\n",
    "test_accuracy = model.score(x_test, y_test)\n",
    "print ('Testing Accuracy:',test_accuracy)"
   ]
  },
  {
   "cell_type": "markdown",
   "metadata": {},
   "source": [
    "### 2. KNN"
   ]
  },
  {
   "cell_type": "code",
   "execution_count": 5,
   "metadata": {},
   "outputs": [
    {
     "name": "stdout",
     "output_type": "stream",
     "text": [
      "Training Accuracy: 0.8910016068559186\n",
      "Testing Accuracy: 0.7837259100642399\n"
     ]
    }
   ],
   "source": [
    "knn = KNeighborsClassifier(n_neighbors = 3)                 \n",
    "knn.fit(x_train, y_train)                                     \n",
    "\n",
    "training_accuracy = knn.score(x_train, y_train)\n",
    "print ('Training Accuracy:',training_accuracy)\n",
    "test_accuracy = knn.score(x_test, y_test)\n",
    "print ('Testing Accuracy:',test_accuracy)"
   ]
  },
  {
   "cell_type": "markdown",
   "metadata": {},
   "source": [
    "### 3. SVM"
   ]
  },
  {
   "cell_type": "code",
   "execution_count": 6,
   "metadata": {},
   "outputs": [
    {
     "name": "stdout",
     "output_type": "stream",
     "text": [
      "Training Accuracy: 0.7546866630958757\n",
      "Testing Accuracy: 0.6970021413276232\n"
     ]
    }
   ],
   "source": [
    "svc = SVC(kernel='poly', C=100)                                             \n",
    "svc.fit(x_train, y_train)                                       \n",
    "\n",
    "training_accuracy = svc.score(x_train, y_train)\n",
    "print ('Training Accuracy:',training_accuracy)\n",
    "test_accuracy = svc.score(x_test, y_test)\n",
    "print ('Testing Accuracy:',test_accuracy)"
   ]
  },
  {
   "cell_type": "markdown",
   "metadata": {},
   "source": [
    "### 4. Perceptron"
   ]
  },
  {
   "cell_type": "code",
   "execution_count": 7,
   "metadata": {},
   "outputs": [
    {
     "name": "stdout",
     "output_type": "stream",
     "text": [
      "Training Accuracy: 0.4633101231922871\n",
      "Testing Accuracy: 0.43897216274089934\n"
     ]
    }
   ],
   "source": [
    "perceptron = Perceptron()                           \n",
    "perceptron.fit(x_train, y_train)                                     \n",
    "\n",
    "training_accuracy = perceptron.score(x_train, y_train)\n",
    "print ('Training Accuracy:',training_accuracy)\n",
    "test_accuracy = perceptron.score(x_test, y_test)\n",
    "print ('Testing Accuracy:',test_accuracy)"
   ]
  },
  {
   "cell_type": "markdown",
   "metadata": {},
   "source": [
    "### 5. XGBoost"
   ]
  },
  {
   "cell_type": "code",
   "execution_count": 8,
   "metadata": {},
   "outputs": [
    {
     "name": "stdout",
     "output_type": "stream",
     "text": [
      "Training Accuracy: 0.950990894483128\n",
      "Testing Accuracy: 0.8790149892933619\n"
     ]
    }
   ],
   "source": [
    "gradboost = xgb.XGBClassifier(n_estimators=1000)          \n",
    "gradboost.fit(x_train, y_train)                                         \n",
    "\n",
    "training_accuracy = gradboost.score(x_train, y_train)\n",
    "print ('Training Accuracy:',training_accuracy)\n",
    "test_accuracy = gradboost.score(x_test, y_test)\n",
    "print ('Testing Accuracy:',test_accuracy)"
   ]
  },
  {
   "cell_type": "markdown",
   "metadata": {},
   "source": [
    "Above all, the best model is XGBoost, testing accuracy is 0.9058."
   ]
  },
  {
   "cell_type": "markdown",
   "metadata": {},
   "source": [
    "<a id='week'></a>\n",
    "# Predict Best Day of Week to Call\n",
    "\n",
    "### 1. Random Forest"
   ]
  },
  {
   "cell_type": "code",
   "execution_count": 9,
   "metadata": {},
   "outputs": [
    {
     "name": "stdout",
     "output_type": "stream",
     "text": [
      "Training Accuracy: 0.9688083463728847\n",
      "Testing Accuracy: 0.8419053968828119\n"
     ]
    }
   ],
   "source": [
    "target=merged['call_day']\n",
    "features=merged.drop(['call_day'],axis=1)\n",
    "x_train,x_test,y_train,y_test=train_test_split(features,target,test_size=0.2,random_state=42)\n",
    "\n",
    "model = RandomForestRegressor()\n",
    "model.fit(x_train, y_train)\n",
    "prediction = model.predict(x_test)\n",
    "training_accuracy = model.score(x_train, y_train)\n",
    "print ('Training Accuracy:',training_accuracy)\n",
    "test_accuracy = model.score(x_test, y_test)\n",
    "print ('Testing Accuracy:',test_accuracy)"
   ]
  },
  {
   "cell_type": "markdown",
   "metadata": {},
   "source": [
    "### 2. KNN"
   ]
  },
  {
   "cell_type": "code",
   "execution_count": 10,
   "metadata": {},
   "outputs": [
    {
     "name": "stdout",
     "output_type": "stream",
     "text": [
      "Training Accuracy: 0.9065345474022496\n",
      "Testing Accuracy: 0.7858672376873662\n"
     ]
    }
   ],
   "source": [
    "knn = KNeighborsClassifier(n_neighbors = 3)                 \n",
    "knn.fit(x_train, y_train)                                     \n",
    "\n",
    "training_accuracy = knn.score(x_train, y_train)\n",
    "print ('Training Accuracy:',training_accuracy)\n",
    "test_accuracy = knn.score(x_test, y_test)\n",
    "print ('Testing Accuracy:',test_accuracy)"
   ]
  },
  {
   "cell_type": "markdown",
   "metadata": {},
   "source": [
    "### 3. SVM"
   ]
  },
  {
   "cell_type": "code",
   "execution_count": 11,
   "metadata": {},
   "outputs": [
    {
     "name": "stdout",
     "output_type": "stream",
     "text": [
      "Training Accuracy: 0.7608462774504553\n",
      "Testing Accuracy: 0.7012847965738758\n"
     ]
    }
   ],
   "source": [
    "svc = SVC(kernel='poly', C=100)                                             \n",
    "svc.fit(x_train, y_train)                                       \n",
    "\n",
    "training_accuracy = svc.score(x_train, y_train)\n",
    "print ('Training Accuracy:',training_accuracy)\n",
    "test_accuracy = svc.score(x_test, y_test)\n",
    "print ('Testing Accuracy:',test_accuracy)"
   ]
  },
  {
   "cell_type": "markdown",
   "metadata": {},
   "source": [
    "### 4. Perceptron"
   ]
  },
  {
   "cell_type": "code",
   "execution_count": 12,
   "metadata": {},
   "outputs": [
    {
     "name": "stdout",
     "output_type": "stream",
     "text": [
      "Training Accuracy: 0.2774504552758436\n",
      "Testing Accuracy: 0.2569593147751606\n"
     ]
    }
   ],
   "source": [
    "perceptron = Perceptron()                           \n",
    "perceptron.fit(x_train, y_train)                                     \n",
    "\n",
    "training_accuracy = perceptron.score(x_train, y_train)\n",
    "print ('Training Accuracy:',training_accuracy)\n",
    "test_accuracy = perceptron.score(x_test, y_test)\n",
    "print ('Testing Accuracy:',test_accuracy)"
   ]
  },
  {
   "cell_type": "markdown",
   "metadata": {},
   "source": [
    "### 5. XGBoost"
   ]
  },
  {
   "cell_type": "code",
   "execution_count": 13,
   "metadata": {},
   "outputs": [
    {
     "name": "stdout",
     "output_type": "stream",
     "text": [
      "Training Accuracy: 0.9820567755757901\n",
      "Testing Accuracy: 0.917558886509636\n"
     ]
    }
   ],
   "source": [
    "gradboost = xgb.XGBClassifier(n_estimators=1000)          \n",
    "gradboost.fit(x_train, y_train)                                         \n",
    "\n",
    "training_accuracy = gradboost.score(x_train, y_train)\n",
    "print ('Training Accuracy:',training_accuracy)\n",
    "test_accuracy = gradboost.score(x_test, y_test)\n",
    "print ('Testing Accuracy:',test_accuracy)"
   ]
  },
  {
   "cell_type": "markdown",
   "metadata": {},
   "source": [
    "Above all, the best model is XGBoost, testing accuracy is 0.9176."
   ]
  },
  {
   "cell_type": "markdown",
   "metadata": {},
   "source": [
    "<a id='hour'></a>\n",
    "# Predict Best Hour to Call\n",
    "### 1. Random Forest"
   ]
  },
  {
   "cell_type": "code",
   "execution_count": 14,
   "metadata": {},
   "outputs": [
    {
     "name": "stdout",
     "output_type": "stream",
     "text": [
      "Training Accuracy: 0.9380271181342651\n",
      "Testing Accuracy: 0.8773804008201168\n"
     ]
    }
   ],
   "source": [
    "target=merged['call_hour']\n",
    "features=merged.drop(['call_hour'],axis=1)\n",
    "x_train,x_test,y_train,y_test=train_test_split(features,target,test_size=0.2,random_state=42)\n",
    "\n",
    "model = RandomForestRegressor()\n",
    "model.fit(x_train, y_train)\n",
    "prediction = model.predict(x_test)\n",
    "training_accuracy = model.score(x_train, y_train)\n",
    "print ('Training Accuracy:',training_accuracy)\n",
    "test_accuracy = model.score(x_test, y_test)\n",
    "print ('Testing Accuracy:',test_accuracy)"
   ]
  },
  {
   "cell_type": "markdown",
   "metadata": {},
   "source": [
    "### 2. KNN"
   ]
  },
  {
   "cell_type": "code",
   "execution_count": 15,
   "metadata": {},
   "outputs": [
    {
     "name": "stdout",
     "output_type": "stream",
     "text": [
      "Training Accuracy: 0.8754686663095875\n",
      "Testing Accuracy: 0.7077087794432548\n"
     ]
    }
   ],
   "source": [
    "knn = KNeighborsClassifier(n_neighbors = 3)                 \n",
    "knn.fit(x_train, y_train)                                     \n",
    "\n",
    "training_accuracy = knn.score(x_train, y_train)\n",
    "print ('Training Accuracy:',training_accuracy)\n",
    "test_accuracy = knn.score(x_test, y_test)\n",
    "print ('Testing Accuracy:',test_accuracy)"
   ]
  },
  {
   "cell_type": "markdown",
   "metadata": {},
   "source": [
    "### 3.SVM"
   ]
  },
  {
   "cell_type": "code",
   "execution_count": 16,
   "metadata": {},
   "outputs": [
    {
     "name": "stdout",
     "output_type": "stream",
     "text": [
      "Training Accuracy: 0.9507230851633637\n",
      "Testing Accuracy: 0.8008565310492506\n"
     ]
    }
   ],
   "source": [
    "svc = SVC(kernel='poly', C=1000)                                             \n",
    "svc.fit(x_train, y_train)                                       \n",
    "\n",
    "training_accuracy = svc.score(x_train, y_train)\n",
    "print ('Training Accuracy:',training_accuracy)\n",
    "test_accuracy = svc.score(x_test, y_test)\n",
    "print ('Testing Accuracy:',test_accuracy)"
   ]
  },
  {
   "cell_type": "markdown",
   "metadata": {},
   "source": [
    "### 4. Perceptron"
   ]
  },
  {
   "cell_type": "code",
   "execution_count": 17,
   "metadata": {},
   "outputs": [
    {
     "name": "stdout",
     "output_type": "stream",
     "text": [
      "Training Accuracy: 0.13042313872522765\n",
      "Testing Accuracy: 0.12205567451820129\n"
     ]
    }
   ],
   "source": [
    "perceptron = Perceptron()                           \n",
    "perceptron.fit(x_train, y_train)                                     \n",
    "\n",
    "training_accuracy = perceptron.score(x_train, y_train)\n",
    "print ('Training Accuracy:',training_accuracy)\n",
    "test_accuracy = perceptron.score(x_test, y_test)\n",
    "print ('Testing Accuracy:',test_accuracy)"
   ]
  },
  {
   "cell_type": "markdown",
   "metadata": {},
   "source": [
    "### 5. XGBoost"
   ]
  },
  {
   "cell_type": "code",
   "execution_count": 18,
   "metadata": {},
   "outputs": [
    {
     "name": "stdout",
     "output_type": "stream",
     "text": [
      "Training Accuracy: 0.9708087841456883\n",
      "Testing Accuracy: 0.9057815845824411\n"
     ]
    }
   ],
   "source": [
    "gradboost = xgb.XGBClassifier(n_estimators=1000)          \n",
    "gradboost.fit(x_train, y_train)                                         \n",
    "\n",
    "training_accuracy = gradboost.score(x_train, y_train)\n",
    "print ('Training Accuracy:',training_accuracy)\n",
    "test_accuracy = gradboost.score(x_test, y_test)\n",
    "print ('Testing Accuracy:',test_accuracy)"
   ]
  },
  {
   "cell_type": "markdown",
   "metadata": {},
   "source": [
    "Above all, the best model is XGBoost, testing accuracy is 0.9058."
   ]
  },
  {
   "cell_type": "markdown",
   "metadata": {},
   "source": [
    "<a id='conclusion'></a>\n",
    "# Conclusion"
   ]
  },
  {
   "cell_type": "markdown",
   "metadata": {},
   "source": [
    "1. After using different models to train data, the best model is XGBoost among three different predicting datasets. The testing accuracy is over 90%. \n",
    "2. If we want to use XGBoost as our prefer model in the future, we could do more XGBoost parameter tuning. (Tutorial: https://www.analyticsvidhya.com/blog/2016/03/complete-guide-parameter-tuning-xgboost-with-codes-python/)\n",
    "3. We could also use optuna to find the automatic hyperparameter optimization for each model. (Tutorial: https://github.com/optuna/optuna)"
   ]
  }
 ],
 "metadata": {
  "kernelspec": {
   "display_name": "Python 3",
   "language": "python",
   "name": "python3"
  },
  "language_info": {
   "codemirror_mode": {
    "name": "ipython",
    "version": 3
   },
   "file_extension": ".py",
   "mimetype": "text/x-python",
   "name": "python",
   "nbconvert_exporter": "python",
   "pygments_lexer": "ipython3",
   "version": "3.8.3"
  }
 },
 "nbformat": 4,
 "nbformat_minor": 4
}
