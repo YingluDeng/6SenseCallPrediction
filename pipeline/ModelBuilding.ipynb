{
 "cells": [
  {
   "cell_type": "code",
   "execution_count": null,
   "metadata": {},
   "outputs": [],
   "source": [
    "import pandas as pd\n",
    "import numpy as np\n",
    "import matplotlib.pyplot as plt\n",
    "import seaborn as sns\n",
    "import itertools\n",
    "\n",
    "from sklearn.compose import ColumnTransformer\n",
    "from sklearn.pipeline import make_pipeline, Pipeline\n",
    "from sklearn.impute import SimpleImputer\n",
    "from sklearn.preprocessing import StandardScaler, OneHotEncoder, MinMaxScaler\n",
    "from sklearn.feature_extraction.text import _VectorizerMixin\n",
    "from sklearn.feature_selection._base import SelectorMixin\n",
    "from sklearn.feature_selection import SelectKBest\n",
    "from sklearn.feature_extraction.text import CountVectorizer\n",
    "\n",
    "from sklearn import model_selection\n",
    "from sklearn.model_selection import train_test_split,cross_val_score,KFold,cross_val_predict\n",
    "from sklearn.metrics import accuracy_score, classification_report, precision_score, recall_score,confusion_matrix,precision_recall_curve,roc_curve\n",
    "from sklearn.feature_selection import RFE\n",
    "from sklearn.linear_model import LogisticRegression\n",
    "from sklearn.ensemble import ExtraTreesClassifier,RandomForestClassifier,AdaBoostClassifier,GradientBoostingClassifier\n",
    "from sklearn.neighbors  import KNeighborsClassifier\n",
    "from sklearn import svm,tree\n",
    "from xgboost import XGBClassifier\n",
    "from lightgbm import LGBMClassifier\n",
    "\n",
    "import warnings\n",
    "warnings.filterwarnings(\"ignore\", category=DeprecationWarning)"
   ]
  },
  {
   "cell_type": "markdown",
   "metadata": {},
   "source": [
    "<a id='model'></a>\n",
    "# Build Model\n",
    "\n",
    "> <ul>\n",
    "    <li>Idea: using different model to predict if we can get positive response from the customer.</li>\n",
    "    <li>Target label: success -- times of positive responses for one contact</li>\n",
    "    <li>Feature: calls_time(the differece between starting time and ending time), events_time, activity_action(times of activities)</li>\n",
    "    <li>Goal: after running the model, we can predict if the customer is positive. If it is positive, then the customer is in our potential customer list.</li>\n",
    "    </ul>"
   ]
  },
  {
   "cell_type": "code",
   "execution_count": 9,
   "metadata": {},
   "outputs": [
    {
     "data": {
      "text/plain": [
       "['total_no_success',\n",
       " 'total_success',\n",
       " 'total_calls_count',\n",
       " 'diff_most_least_recent_call',\n",
       " 'average_time_between_calls',\n",
       " 'attended_event',\n",
       " 'email_click',\n",
       " 'email_open',\n",
       " 'form_fill',\n",
       " 'known_web_visit',\n",
       " 'total_activity_count',\n",
       " 'diff_most_least_recent_event',\n",
       " 'average_time_between_event',\n",
       " 'most_recent_call_event_diff',\n",
       " 'job_level_C-Level',\n",
       " 'job_level_Director',\n",
       " 'job_level_Manager',\n",
       " 'job_level_Other',\n",
       " 'job_level_Senior',\n",
       " 'job_level_Staff',\n",
       " 'job_level_Vice President',\n",
       " 'job_function_Accounting',\n",
       " 'job_function_Administrative',\n",
       " 'job_function_Arts and Design',\n",
       " 'job_function_Business Development',\n",
       " 'job_function_Consulting',\n",
       " 'job_function_Customer Service & Support',\n",
       " 'job_function_Education',\n",
       " 'job_function_Engineering',\n",
       " 'job_function_Finance',\n",
       " 'job_function_Healthcare Services',\n",
       " 'job_function_Human Resources',\n",
       " 'job_function_Information Technology',\n",
       " 'job_function_Legal',\n",
       " 'job_function_Management',\n",
       " 'job_function_Marketing',\n",
       " 'job_function_Media & Communications',\n",
       " 'job_function_Military & Protective Services',\n",
       " 'job_function_Operations',\n",
       " 'job_function_Other',\n",
       " 'job_function_Product Management',\n",
       " 'job_function_Purchasing',\n",
       " 'job_function_Quality Assurance',\n",
       " 'job_function_Real Estate',\n",
       " 'job_function_Sales',\n",
       " 'industry_Aerospace and Defense',\n",
       " 'industry_Agriculture',\n",
       " 'industry_Apparel',\n",
       " 'industry_Associations',\n",
       " 'industry_Automotive',\n",
       " 'industry_Biotech',\n",
       " 'industry_Business Services',\n",
       " 'industry_Construction',\n",
       " 'industry_Consumer Goods and Services',\n",
       " 'industry_Education',\n",
       " 'industry_Energy and Utilities',\n",
       " 'industry_Financial Services',\n",
       " 'industry_Food and Beverage',\n",
       " 'industry_Furniture',\n",
       " 'industry_Government',\n",
       " 'industry_Hardware',\n",
       " 'industry_Healthcare and Medical',\n",
       " 'industry_Home and Garden',\n",
       " 'industry_Hospitality and Travel',\n",
       " 'industry_Manufacturing',\n",
       " 'industry_Media and Entertainment',\n",
       " 'industry_Mining',\n",
       " 'industry_Pharmaceuticals',\n",
       " 'industry_Printing and Publishing',\n",
       " 'industry_Real Estate',\n",
       " 'industry_Recreation',\n",
       " 'industry_Retail and Distribution',\n",
       " 'industry_Software and Technology',\n",
       " 'industry_Telecommunications',\n",
       " 'industry_Textiles',\n",
       " 'industry_Transportation and Logistics',\n",
       " 'employee_range_0 - 9',\n",
       " 'employee_range_1,000 - 4,999',\n",
       " 'employee_range_10 - 19',\n",
       " 'employee_range_10,000+',\n",
       " 'employee_range_100 - 249',\n",
       " 'employee_range_20 - 49',\n",
       " 'employee_range_250 - 499',\n",
       " 'employee_range_5,000 - 9,999',\n",
       " 'employee_range_50 - 99',\n",
       " 'employee_range_500 - 999',\n",
       " 'most_recent_call_month_August',\n",
       " 'most_recent_call_month_December',\n",
       " 'most_recent_call_month_January',\n",
       " 'most_recent_call_month_July',\n",
       " 'most_recent_call_month_November',\n",
       " 'most_recent_call_month_October',\n",
       " 'most_recent_call_month_September',\n",
       " 'least_recent_call_month_August',\n",
       " 'least_recent_call_month_December',\n",
       " 'least_recent_call_month_July',\n",
       " 'least_recent_call_month_November',\n",
       " 'least_recent_call_month_October',\n",
       " 'least_recent_call_month_September',\n",
       " 'most_recent_event_month_April',\n",
       " 'most_recent_event_month_August',\n",
       " 'most_recent_event_month_December',\n",
       " 'most_recent_event_month_February',\n",
       " 'most_recent_event_month_January',\n",
       " 'most_recent_event_month_July',\n",
       " 'most_recent_event_month_June',\n",
       " 'most_recent_event_month_March',\n",
       " 'most_recent_event_month_May',\n",
       " 'most_recent_event_month_November',\n",
       " 'most_recent_event_month_October',\n",
       " 'most_recent_event_month_September',\n",
       " 'most_recent_event_dayofweek_Friday',\n",
       " 'most_recent_event_dayofweek_Monday',\n",
       " 'most_recent_event_dayofweek_Saturday',\n",
       " 'most_recent_event_dayofweek_Sunday',\n",
       " 'most_recent_event_dayofweek_Thursday',\n",
       " 'most_recent_event_dayofweek_Tuesday',\n",
       " 'most_recent_event_dayofweek_Wednesday',\n",
       " 'successful_call',\n",
       " 'most_recent_event_week',\n",
       " 'most_recent_event_day',\n",
       " 'least_recent_event_week',\n",
       " 'least_recent_event_day',\n",
       " 'most_recent_call_week',\n",
       " 'most_recent_call_day',\n",
       " 'most_recent_call_hour',\n",
       " 'least_recent_call_week',\n",
       " 'least_recent_call_day',\n",
       " 'least_recent_call_hour']"
      ]
     },
     "execution_count": 9,
     "metadata": {},
     "output_type": "execute_result"
    }
   ],
   "source": [
    "model_data = pd.read_csv(\"../data/model_data.csv\")\n",
    "del model_data[\"Unnamed: 0\"]\n",
    "list(model_data.columns)"
   ]
  },
  {
   "cell_type": "code",
   "execution_count": 10,
   "metadata": {},
   "outputs": [],
   "source": [
    "X = model_data.drop([\"successful_call\", 'total_no_success', 'total_success'], axis=1)\n",
    "y = model_data.successful_call.values\n",
    "X_train, X_test, y_train, y_test = train_test_split(X, y, test_size=0.20,random_state=42, stratify = y)"
   ]
  },
  {
   "cell_type": "markdown",
   "metadata": {},
   "source": [
    "## Model Building Process\n",
    "We apply 7 Classification Predictor Algorithms to our predictive model as the list below. Then use 10-fold to get cross validation score and do the model validation.\n",
    "\n",
    "1. KNN\n",
    "2. Logistic Regression\n",
    "3. SVM\n",
    "4. Decision Tree\n",
    "5. Random Forest\n",
    "6. AdaBoost\n",
    "7. XGBoost\n",
    "8. LightGBM Classifier"
   ]
  },
  {
   "cell_type": "code",
   "execution_count": 11,
   "metadata": {},
   "outputs": [],
   "source": [
    "#The code for the below matrix is taken from sklearn documentation\n",
    "#Defining the confusion matrix function\n",
    "def plot_confusion_matrix(cm, classes,\n",
    "                          normalize=False,\n",
    "                          title='Confusion matrix',\n",
    "                          cmap=plt.cm.Blues):\n",
    "    \n",
    "   \n",
    "    plt.imshow(cm, interpolation='nearest', cmap=cmap)\n",
    "    plt.title(title)\n",
    "    plt.colorbar()\n",
    "    tick_marks = np.arange(len(classes))\n",
    "    plt.xticks(tick_marks, classes, rotation=45)\n",
    "    plt.yticks(tick_marks, classes)\n",
    "    \n",
    "\n",
    "\n",
    "    thresh = cm.max() / 2.\n",
    "    for i, j in itertools.product(range(cm.shape[0]), range(cm.shape[1])):\n",
    "        plt.text(j, i, cm[i, j],\n",
    "                 horizontalalignment=\"center\",\n",
    "                 color=\"white\" if cm[i, j] > thresh else \"black\")\n",
    "        \n",
    "        \n",
    "    plt.tight_layout()\n",
    "    plt.ylabel('True label')\n",
    "    plt.xlabel('Predicted label')\n",
    "#Using Success and Failure for 0 and 1    \n",
    "class_names = ['Success','Failure']"
   ]
  },
  {
   "cell_type": "code",
   "execution_count": null,
   "metadata": {},
   "outputs": [
    {
     "name": "stdout",
     "output_type": "stream",
     "text": [
      "kNN Accuracy is 0.61\n",
      "kNN Cross Validation Score = 0.61\n",
      "              precision    recall  f1-score   support\n",
      "\n",
      "           0       0.64      0.84      0.72      2695\n",
      "           1       0.50      0.26      0.34      1724\n",
      "\n",
      "    accuracy                           0.61      4419\n",
      "   macro avg       0.57      0.55      0.53      4419\n",
      "weighted avg       0.59      0.61      0.57      4419\n",
      "\n"
     ]
    },
    {
     "data": {
      "image/png": "[encoded data removed]",
      "text/plain": [
       "<Figure size 432x288 with 2 Axes>"
      ]
     },
     "metadata": {
      "needs_background": "light"
     },
     "output_type": "display_data"
    },
    {
     "name": "stdout",
     "output_type": "stream",
     "text": [
      "========================================================================\n"
     ]
    },
    {
     "name": "stderr",
     "output_type": "stream",
     "text": [
      "/Users/summer2019/opt/anaconda3/lib/python3.7/site-packages/sklearn/linear_model/_logistic.py:940: ConvergenceWarning: lbfgs failed to converge (status=1):\n",
      "STOP: TOTAL NO. of ITERATIONS REACHED LIMIT.\n",
      "\n",
      "Increase the number of iterations (max_iter) or scale the data as shown in:\n",
      "    https://scikit-learn.org/stable/modules/preprocessing.html\n",
      "Please also refer to the documentation for alternative solver options:\n",
      "    https://scikit-learn.org/stable/modules/linear_model.html#logistic-regression\n",
      "  extra_warning_msg=_LOGISTIC_SOLVER_CONVERGENCE_MSG)\n"
     ]
    },
    {
     "name": "stdout",
     "output_type": "stream",
     "text": [
      "Logistic Regression Accuracy is 0.64\n"
     ]
    },
    {
     "name": "stderr",
     "output_type": "stream",
     "text": [
      "/Users/summer2019/opt/anaconda3/lib/python3.7/site-packages/sklearn/linear_model/_logistic.py:940: ConvergenceWarning: lbfgs failed to converge (status=1):\n",
      "STOP: TOTAL NO. of ITERATIONS REACHED LIMIT.\n",
      "\n",
      "Increase the number of iterations (max_iter) or scale the data as shown in:\n",
      "    https://scikit-learn.org/stable/modules/preprocessing.html\n",
      "Please also refer to the documentation for alternative solver options:\n",
      "    https://scikit-learn.org/stable/modules/linear_model.html#logistic-regression\n",
      "  extra_warning_msg=_LOGISTIC_SOLVER_CONVERGENCE_MSG)\n",
      "/Users/summer2019/opt/anaconda3/lib/python3.7/site-packages/sklearn/linear_model/_logistic.py:940: ConvergenceWarning: lbfgs failed to converge (status=1):\n",
      "STOP: TOTAL NO. of ITERATIONS REACHED LIMIT.\n",
      "\n",
      "Increase the number of iterations (max_iter) or scale the data as shown in:\n",
      "    https://scikit-learn.org/stable/modules/preprocessing.html\n",
      "Please also refer to the documentation for alternative solver options:\n",
      "    https://scikit-learn.org/stable/modules/linear_model.html#logistic-regression\n",
      "  extra_warning_msg=_LOGISTIC_SOLVER_CONVERGENCE_MSG)\n",
      "/Users/summer2019/opt/anaconda3/lib/python3.7/site-packages/sklearn/linear_model/_logistic.py:940: ConvergenceWarning: lbfgs failed to converge (status=1):\n",
      "STOP: TOTAL NO. of ITERATIONS REACHED LIMIT.\n",
      "\n",
      "Increase the number of iterations (max_iter) or scale the data as shown in:\n",
      "    https://scikit-learn.org/stable/modules/preprocessing.html\n",
      "Please also refer to the documentation for alternative solver options:\n",
      "    https://scikit-learn.org/stable/modules/linear_model.html#logistic-regression\n",
      "  extra_warning_msg=_LOGISTIC_SOLVER_CONVERGENCE_MSG)\n",
      "/Users/summer2019/opt/anaconda3/lib/python3.7/site-packages/sklearn/linear_model/_logistic.py:940: ConvergenceWarning: lbfgs failed to converge (status=1):\n",
      "STOP: TOTAL NO. of ITERATIONS REACHED LIMIT.\n",
      "\n",
      "Increase the number of iterations (max_iter) or scale the data as shown in:\n",
      "    https://scikit-learn.org/stable/modules/preprocessing.html\n",
      "Please also refer to the documentation for alternative solver options:\n",
      "    https://scikit-learn.org/stable/modules/linear_model.html#logistic-regression\n",
      "  extra_warning_msg=_LOGISTIC_SOLVER_CONVERGENCE_MSG)\n"
     ]
    },
    {
     "name": "stdout",
     "output_type": "stream",
     "text": [
      "Logistic Regression Cross Validation Score = 0.64\n",
      "              precision    recall  f1-score   support\n",
      "\n",
      "           0       0.66      0.84      0.74      2695\n",
      "           1       0.56      0.32      0.41      1724\n",
      "\n",
      "    accuracy                           0.64      4419\n",
      "   macro avg       0.61      0.58      0.57      4419\n",
      "weighted avg       0.62      0.64      0.61      4419\n",
      "\n"
     ]
    },
    {
     "name": "stderr",
     "output_type": "stream",
     "text": [
      "/Users/summer2019/opt/anaconda3/lib/python3.7/site-packages/sklearn/linear_model/_logistic.py:940: ConvergenceWarning: lbfgs failed to converge (status=1):\n",
      "STOP: TOTAL NO. of ITERATIONS REACHED LIMIT.\n",
      "\n",
      "Increase the number of iterations (max_iter) or scale the data as shown in:\n",
      "    https://scikit-learn.org/stable/modules/preprocessing.html\n",
      "Please also refer to the documentation for alternative solver options:\n",
      "    https://scikit-learn.org/stable/modules/linear_model.html#logistic-regression\n",
      "  extra_warning_msg=_LOGISTIC_SOLVER_CONVERGENCE_MSG)\n"
     ]
    },
    {
     "data": {
      "image/png": "[encoded data removed]",
      "text/plain": [
       "<Figure size 432x288 with 2 Axes>"
      ]
     },
     "metadata": {
      "needs_background": "light"
     },
     "output_type": "display_data"
    },
    {
     "name": "stdout",
     "output_type": "stream",
     "text": [
      "========================================================================\n",
      "Decision Tree Accuracy is 0.61\n",
      "Decision Tree Cross Validation Score = 0.61\n",
      "              precision    recall  f1-score   support\n",
      "\n",
      "           0       0.71      0.61      0.66      2695\n",
      "           1       0.50      0.61      0.55      1724\n",
      "\n",
      "    accuracy                           0.61      4419\n",
      "   macro avg       0.61      0.61      0.61      4419\n",
      "weighted avg       0.63      0.61      0.62      4419\n",
      "\n"
     ]
    },
    {
     "data": {
      "image/png": "[encoded data removed]",
      "text/plain": [
       "<Figure size 432x288 with 2 Axes>"
      ]
     },
     "metadata": {
      "needs_background": "light"
     },
     "output_type": "display_data"
    },
    {
     "name": "stdout",
     "output_type": "stream",
     "text": [
      "========================================================================\n",
      "Random Forest Accuracy is 0.65\n"
     ]
    }
   ],
   "source": [
    "def run_exps(X_train, y_train, X_test, y_test, models, class_names):\n",
    "    models = models\n",
    "    scoring = ['accuracy', 'precision_weighted', 'recall_weighted', 'f1_weighted', 'roc_auc']\n",
    "    for name, model in models:\n",
    "        clf = model.fit(X_train, y_train)\n",
    "        print (\"%s Accuracy is %2.2f\" % (name, accuracy_score(y_test, clf.predict(X_test))))\n",
    "        y_pred = clf.predict(X_test)\n",
    "        kfold = model_selection.KFold(n_splits=5, shuffle=True, random_state=0)\n",
    "        score = cross_val_score(clf, X, y, cv=kfold).mean()\n",
    "        print(\"%s Cross Validation Score = %2.2f\" % (name, score))\n",
    "        y_pred = clf.predict(X_test)\n",
    "        print(classification_report(y_test, y_pred))\n",
    "        #Defining the confusion matrix\n",
    "        cm = confusion_matrix(y_test, y_pred)\n",
    "        #Plotting the confusion matrix\n",
    "        plot_confusion_matrix(cm, classes=class_names, title='Confusion matrix')\n",
    "        plt.show()\n",
    "        print(\"========================================================================\")\n",
    "\n",
    "models =   [('kNN', KNeighborsClassifier(n_neighbors = 6)), \n",
    "            ('Logistic Regression', LogisticRegression()), \n",
    "            ('Decision Tree', tree.DecisionTreeClassifier(random_state = 0,class_weight=\"balanced\", min_weight_fraction_leaf=0.01)), \n",
    "            ('Random Forest', RandomForestClassifier(n_estimators=1000, max_depth=None, min_samples_split=10,class_weight=\"balanced\")),\n",
    "            ('AdaBoost', AdaBoostClassifier(n_estimators=400, learning_rate=0.1))\n",
    "#       ('KNN', KNeighborsClassifier()),\n",
    "#       ('SVM', SVC()), \n",
    "#       ('GNB', GaussianNB()),\n",
    "#       ('XGB', XGBClassifier())\n",
    "    ]\n",
    "run_exps(X_train, y_train, X_test, y_test, models, class_names)\n"
   ]
  },
  {
   "cell_type": "code",
   "execution_count": null,
   "metadata": {},
   "outputs": [],
   "source": [
    "\n",
    "#Logistic Regression Classifier\n",
    "LR = LogisticRegression()\n",
    "LR.fit(X_train,y_train)\n",
    "print (\"Logistic Accuracy is %2.2f\" % accuracy_score(y_test, LR.predict(X_test)))\n",
    "score_LR = cross_val_score(LR, X, y, cv=10).mean()\n",
    "print(\"Cross Validation Score = %2.2f\" % score_LR)\n",
    "y_pred = LR.predict(X_test)\n",
    "print(classification_report(y_test, y_pred))\n",
    "# Confusion matrix for LR\n",
    "cm = confusion_matrix(y_test,y_pred)\n",
    "plot_confusion_matrix(cm, classes=class_names, title='Confusion matrix')"
   ]
  },
  {
   "cell_type": "code",
   "execution_count": null,
   "metadata": {},
   "outputs": [],
   "source": []
  }
 ],
 "metadata": {
  "kernelspec": {
   "display_name": "Python 3",
   "language": "python",
   "name": "python3"
  },
  "language_info": {
   "codemirror_mode": {
    "name": "ipython",
    "version": 3
   },
   "file_extension": ".py",
   "mimetype": "text/x-python",
   "name": "python",
   "nbconvert_exporter": "python",
   "pygments_lexer": "ipython3",
   "version": "3.7.6"
  }
 },
 "nbformat": 4,
 "nbformat_minor": 4
}
